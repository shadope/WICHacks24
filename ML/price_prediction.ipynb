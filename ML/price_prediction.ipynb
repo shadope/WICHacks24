{
 "cells": [
  {
   "cell_type": "code",
   "execution_count": 1,
   "id": "a7792d8a",
   "metadata": {},
   "outputs": [],
   "source": [
    "# imports\n",
    "import pandas as pd\n",
    "import matplotlib.pyplot as plt\n",
    "import numpy as np\n",
    "from sklearn import preprocessing\n",
    "from sklearn.impute import SimpleImputer\n",
    "import seaborn as sns\n",
    "from sklearn.preprocessing import StandardScaler\n",
    "from sklearn.cluster import KMeans\n",
    "from sklearn import metrics\n",
    "from sklearn.neighbors import NearestNeighbors\n",
    "from sklearn.model_selection import cross_val_predict, cross_val_score\n",
    "from sklearn.tree import DecisionTreeClassifier\n",
    "from sklearn.model_selection import GridSearchCV\n",
    "from scipy.cluster.hierarchy import linkage, cophenet\n",
    "from scipy.spatial.distance import pdist\n",
    "from sklearn.ensemble import RandomForestClassifier\n",
    "from scipy.cluster.hierarchy import dendrogram\n",
    "from sklearn.utils._testing import ignore_warnings\n",
    "from sklearn.exceptions import ConvergenceWarning\n",
    "from sklearn.neural_network import MLPClassifier\n",
    "from sklearn.pipeline import Pipeline\n",
    "from sklearn.decomposition import PCA\n",
    "from sklearn.neighbors import KNeighborsClassifier\n",
    "from sklearn.metrics import silhouette_score, confusion_matrix, accuracy_score, classification_report\n",
    "from sklearn.naive_bayes import GaussianNB\n",
    "from sklearn.model_selection import ShuffleSplit, cross_val_score\n",
    "dict_brand = {'Adidas': 2, 'Nike': 1, 'Puma':3, 'Under Armour': 0, 'Reebok': 4, 'New Balance':5}\n",
    "dict_cate = {'Jacket': 0, 'Jeans': 1, 'Dress':4, 'Sweater':2, 'T-shirt': 3, 'Shoes': 5}\n",
    "dict_color = {'Black': 0, 'Blue': 1, 'Green': 2, 'Red':3, 'White':4, 'Yellow': 5}\n",
    "#dict_m = {'Cotton': 1, 'Wool': 2, 'Silk': 3, 'Red':4, 'Polyester':5, 'Nylon': 6}"
   ]
  },
  {
   "cell_type": "code",
   "execution_count": 2,
   "id": "15f9a781",
   "metadata": {},
   "outputs": [
    {
     "data": {
      "text/html": [
       "<div>\n",
       "<style scoped>\n",
       "    .dataframe tbody tr th:only-of-type {\n",
       "        vertical-align: middle;\n",
       "    }\n",
       "\n",
       "    .dataframe tbody tr th {\n",
       "        vertical-align: top;\n",
       "    }\n",
       "\n",
       "    .dataframe thead th {\n",
       "        text-align: right;\n",
       "    }\n",
       "</style>\n",
       "<table border=\"1\" class=\"dataframe\">\n",
       "  <thead>\n",
       "    <tr style=\"text-align: right;\">\n",
       "      <th></th>\n",
       "      <th>Brand</th>\n",
       "      <th>Category</th>\n",
       "      <th>Color</th>\n",
       "      <th>Price</th>\n",
       "    </tr>\n",
       "  </thead>\n",
       "  <tbody>\n",
       "    <tr>\n",
       "      <th>0</th>\n",
       "      <td>New Balance</td>\n",
       "      <td>Dress</td>\n",
       "      <td>White</td>\n",
       "      <td>182</td>\n",
       "    </tr>\n",
       "    <tr>\n",
       "      <th>1</th>\n",
       "      <td>New Balance</td>\n",
       "      <td>Jeans</td>\n",
       "      <td>Black</td>\n",
       "      <td>57</td>\n",
       "    </tr>\n",
       "    <tr>\n",
       "      <th>2</th>\n",
       "      <td>Under Armour</td>\n",
       "      <td>Dress</td>\n",
       "      <td>Red</td>\n",
       "      <td>127</td>\n",
       "    </tr>\n",
       "    <tr>\n",
       "      <th>3</th>\n",
       "      <td>Nike</td>\n",
       "      <td>Shoes</td>\n",
       "      <td>Green</td>\n",
       "      <td>77</td>\n",
       "    </tr>\n",
       "    <tr>\n",
       "      <th>4</th>\n",
       "      <td>Adidas</td>\n",
       "      <td>Sweater</td>\n",
       "      <td>White</td>\n",
       "      <td>113</td>\n",
       "    </tr>\n",
       "    <tr>\n",
       "      <th>...</th>\n",
       "      <td>...</td>\n",
       "      <td>...</td>\n",
       "      <td>...</td>\n",
       "      <td>...</td>\n",
       "    </tr>\n",
       "    <tr>\n",
       "      <th>995</th>\n",
       "      <td>Puma</td>\n",
       "      <td>Jeans</td>\n",
       "      <td>Black</td>\n",
       "      <td>176</td>\n",
       "    </tr>\n",
       "    <tr>\n",
       "      <th>996</th>\n",
       "      <td>Puma</td>\n",
       "      <td>Jacket</td>\n",
       "      <td>Red</td>\n",
       "      <td>110</td>\n",
       "    </tr>\n",
       "    <tr>\n",
       "      <th>997</th>\n",
       "      <td>Reebok</td>\n",
       "      <td>Sweater</td>\n",
       "      <td>Blue</td>\n",
       "      <td>127</td>\n",
       "    </tr>\n",
       "    <tr>\n",
       "      <th>998</th>\n",
       "      <td>Under Armour</td>\n",
       "      <td>Sweater</td>\n",
       "      <td>Black</td>\n",
       "      <td>69</td>\n",
       "    </tr>\n",
       "    <tr>\n",
       "      <th>999</th>\n",
       "      <td>New Balance</td>\n",
       "      <td>Jacket</td>\n",
       "      <td>Yellow</td>\n",
       "      <td>174</td>\n",
       "    </tr>\n",
       "  </tbody>\n",
       "</table>\n",
       "<p>1000 rows × 4 columns</p>\n",
       "</div>"
      ],
      "text/plain": [
       "            Brand Category   Color  Price\n",
       "0     New Balance    Dress   White    182\n",
       "1     New Balance    Jeans   Black     57\n",
       "2    Under Armour    Dress     Red    127\n",
       "3            Nike    Shoes   Green     77\n",
       "4          Adidas  Sweater   White    113\n",
       "..            ...      ...     ...    ...\n",
       "995          Puma    Jeans   Black    176\n",
       "996          Puma   Jacket     Red    110\n",
       "997        Reebok  Sweater    Blue    127\n",
       "998  Under Armour  Sweater   Black     69\n",
       "999   New Balance   Jacket  Yellow    174\n",
       "\n",
       "[1000 rows x 4 columns]"
      ]
     },
     "execution_count": 2,
     "metadata": {},
     "output_type": "execute_result"
    }
   ],
   "source": [
    "# Reading in the dataset\n",
    "df = pd.read_csv(\"clothes_price_prediction_data.csv\")\n",
    "cols = df.columns.tolist()\n",
    "df = df.drop(['Size'], axis=1)\n",
    "df = df.drop(['Material'], axis=1)\n",
    "df"
   ]
  },
  {
   "cell_type": "code",
   "execution_count": 3,
   "id": "29d02bc2",
   "metadata": {},
   "outputs": [
    {
     "name": "stdout",
     "output_type": "stream",
     "text": [
      "Brand       0\n",
      "Category    0\n",
      "Color       0\n",
      "Price       0\n",
      "dtype: int64\n"
     ]
    }
   ],
   "source": [
    "print(df.isna().sum())"
   ]
  },
  {
   "cell_type": "code",
   "execution_count": 5,
   "id": "d337192f",
   "metadata": {},
   "outputs": [
    {
     "data": {
      "image/png": "[encoded data removed]",
      "text/plain": [
       "<Figure size 640x480 with 1 Axes>"
      ]
     },
     "metadata": {},
     "output_type": "display_data"
    },
    {
     "name": "stdout",
     "output_type": "stream",
     "text": [
      "Jacket     191\n",
      "Shoes      172\n",
      "Jeans      167\n",
      "Dress      166\n",
      "Sweater    160\n",
      "T-shirt    144\n",
      "Name: Category, dtype: int64\n"
     ]
    }
   ],
   "source": [
    "import pandas as pd\n",
    "import matplotlib.pyplot as plt\n",
    "\n",
    "# Assuming 'df' is your DataFrame\n",
    "category_counts = df['Category'].value_counts()\n",
    "\n",
    "# Plotting the bar plot\n",
    "category_counts.plot(kind='bar', title='Category Counts', xlabel='Category', ylabel='Count')\n",
    "plt.show()\n",
    "\n",
    "# Displaying the counts in the console\n",
    "print(df[\"Category\"].value_counts())\n"
   ]
  },
  {
   "cell_type": "code",
   "execution_count": 17,
   "id": "263d3353",
   "metadata": {},
   "outputs": [
    {
     "data": {
      "image/png": "[encoded data removed]",
      "text/plain": [
       "<Figure size 640x480 with 1 Axes>"
      ]
     },
     "metadata": {},
     "output_type": "display_data"
    }
   ],
   "source": [
    "original = df[\"Price\"]\n",
    "changed = original.copy()\n",
    "\n",
    "org_b = df['Brand']\n",
    "org_cat = df['Category']\n",
    "org_color = df['Color']\n",
    "#org_m = df['Material']\n",
    "encode_cat = original.copy()\n",
    "encode_b = original.copy()\n",
    "encode_color = original.copy()\n",
    "#encode_m = original.copy()\n",
    "\n",
    "for index in org_cat.index:\n",
    "    encode_cat[index] = dict_cate.get(org_cat[index])\n",
    "    encode_b[index] = dict_brand.get(org_b[index])\n",
    "    encode_color[index] = dict_color.get(org_color[index])\n",
    "    #encode_m[index] = dict_m.get(org_m[index])\n",
    "\n",
    "df['Category'] = encode_cat\n",
    "df['Brand'] = encode_b\n",
    "df['Color'] = encode_color\n",
    "#df['Material'] = encode_b\n",
    "\n",
    "# Iterate over the index of the DataFrame\n",
    "for index in changed.index:\n",
    "    if changed[index] > 25:\n",
    "        if changed[index] % 25 != 0:\n",
    "            changed[index] = changed[index] - (changed[index] % 25)\n",
    "#     else:\n",
    "#         if changed[index] > 20:\n",
    "#             changed[index] = 20\n",
    "#         else:  \n",
    "#             changed[index] = 10\n",
    "\n",
    "df['Price'] = changed\n",
    "import matplotlib.pyplot as plt\n",
    "\n",
    "# Assuming 'df' is your DataFrame\n",
    "\n",
    "# Plotting the histogram\n",
    "plt.hist(df['Price'], bins=20, edgecolor='black')  # You can adjust the number of bins as needed\n",
    "plt.title('Distribution of Modified Prices')\n",
    "plt.xlabel('Modified Price')\n",
    "plt.ylabel('Frequency')\n",
    "plt.show()\n",
    "\n"
   ]
  },
  {
   "cell_type": "code",
   "execution_count": 7,
   "id": "5632b3b9",
   "metadata": {},
   "outputs": [],
   "source": [
    "# category_counts = df[''].value_counts()\n",
    "\n",
    "# # Plotting the bar plot\n",
    "# category_counts.plot(kind='bar', title='Category Counts', xlabel='Category', ylabel='Count')\n",
    "# plt.show()"
   ]
  },
  {
   "cell_type": "code",
   "execution_count": 8,
   "id": "212614a3",
   "metadata": {},
   "outputs": [],
   "source": [
    "scaler = StandardScaler()\n",
    "pca = PCA()\n",
    "labels = df['Price']\n",
    "raw_df = df.drop('Price', axis = 1)"
   ]
  },
  {
   "cell_type": "code",
   "execution_count": 9,
   "id": "a161da83",
   "metadata": {},
   "outputs": [
    {
     "name": "stdout",
     "output_type": "stream",
     "text": [
      "Average Accuracy: 17.0\n"
     ]
    }
   ],
   "source": [
    "features = df.drop('Price', axis=1)\n",
    "nb_clf = GaussianNB()\n",
    "n_splits = 5\n",
    "test_size = 0.2\n",
    "splits = ShuffleSplit(n_splits=n_splits, test_size=test_size, random_state=7)\n",
    "nb_nested_score = cross_val_score(nb_clf, features, labels, cv=n_splits)\n",
    "average_accuracy = nb_nested_score.mean() * 100\n",
    "print(\"Average Accuracy:\", average_accuracy) "
   ]
  },
  {
   "cell_type": "code",
   "execution_count": 10,
   "id": "e2e8217c",
   "metadata": {},
   "outputs": [],
   "source": [
    "@ignore_warnings(category=ConvergenceWarning)\n",
    "def run_nn():\n",
    "    print('**Neural Network results**')\n",
    "    nn_clf = MLPClassifier()\n",
    "    # define the pipeline steps\n",
    "    pipeline_nn = Pipeline([('scaler', scaler), ('nn_clf', nn_clf)])\n",
    "    # define the hyperparameters\n",
    "    param_grid_nn = {\n",
    "        'nn_clf__hidden_layer_sizes':  [20, 30, 40, 50, 60],\n",
    "        'nn_clf__activation': ['identity','logistic', 'tanh', 'relu'],\n",
    "        'nn_clf__solver': ['lbfgs', 'sgd', 'adam']\n",
    "    }\n",
    "    \n",
    "    # solver{‘lbfgs’, ‘sgd’, ‘adam’}\n",
    "    # learning_rate{‘constant’, ‘invscaling’, ‘adaptive’}\n",
    "    \n",
    "    nn_grid_search = GridSearchCV(pipeline_nn, param_grid_nn, cv=5, scoring='accuracy')\n",
    "    nn_scores = cross_val_score(nn_grid_search, features, labels, cv=n_splits)\n",
    "    print('Neural Net Accuracy:', nn_scores.mean()*100)\n",
    "\n",
    "    return nn_scores.mean() * 100\n",
    "#run_nn()"
   ]
  },
  {
   "cell_type": "code",
   "execution_count": 11,
   "id": "c1bb8abe",
   "metadata": {},
   "outputs": [],
   "source": [
    "# # your code goes here\n",
    "# from sklearn.svm import SVC\n",
    "# from sklearn.metrics import classification_report\n",
    "\n",
    "# svc = SVC()\n",
    "# # define pipeline steps\n",
    "# pipeline2 = Pipeline([('scaler', scaler), ('svc', svc)])\n",
    "# # define the hyperparameters\n",
    "# param_grid2 = {\n",
    "#     'svc__C':  [0.1, 1, 10, 100],\n",
    "#     'svc__kernel': ['linear', 'rbf', 'poly']\n",
    "# }\n",
    "# svm_grid_search = GridSearchCV(pipeline2, param_grid2, cv=5, scoring='accuracy')\n",
    "# preds_svm = cross_val_predict(svm_grid_search, features, labels, cv=5)\n",
    "# print('Accuracy on test data is:', (accuracy_score(labels, preds_svm)))"
   ]
  },
  {
   "cell_type": "code",
   "execution_count": 12,
   "id": "f321b48c",
   "metadata": {},
   "outputs": [],
   "source": [
    "import pickle\n",
    "#replace this final_model with your final model\n",
    "filename = 'finalized_model.sav'\n",
    "#final_model = svm_grid_search.fit(features, labels)\n",
    "final_model = nb_clf.fit(features.values, labels.values)\n",
    "pickle.dump(final_model, open(filename, 'wb'))"
   ]
  },
  {
   "cell_type": "code",
   "execution_count": 13,
   "id": "eeccc36a",
   "metadata": {},
   "outputs": [
    {
     "name": "stdout",
     "output_type": "stream",
     "text": [
      "[30]\n"
     ]
    }
   ],
   "source": [
    "# use this as the new record to classify\n",
    "record = [0, 1, 3]\n",
    "\n",
    "# load the model from disk\n",
    "loaded_model = pickle.load(open(filename, 'rb'))\n",
    "# your code goes here\n",
    "predict = loaded_model.predict([record])\n",
    "print(predict)"
   ]
  }
 ],
 "metadata": {
  "kernelspec": {
   "display_name": "Python 3 (ipykernel)",
   "language": "python",
   "name": "python3"
  },
  "language_info": {
   "codemirror_mode": {
    "name": "ipython",
    "version": 3
   },
   "file_extension": ".py",
   "mimetype": "text/x-python",
   "name": "python",
   "nbconvert_exporter": "python",
   "pygments_lexer": "ipython3",
   "version": "3.11.4"
  }
 },
 "nbformat": 4,
 "nbformat_minor": 5
}
